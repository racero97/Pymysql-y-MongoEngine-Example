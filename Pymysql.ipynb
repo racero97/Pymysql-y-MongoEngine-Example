{
 "cells": [
  {
   "cell_type": "code",
   "execution_count": 83,
   "id": "08abac00",
   "metadata": {},
   "outputs": [
    {
     "name": "stdout",
     "output_type": "stream",
     "text": [
      "Requirement already satisfied: pymysql in c:\\users\\alace\\anaconda3\\lib\\site-packages (1.1.0)\n"
     ]
    }
   ],
   "source": [
    "!pip install pymysql\n",
    "import pymysql\n",
    "import csv"
   ]
  },
  {
   "cell_type": "code",
   "execution_count": 110,
   "id": "c984e997",
   "metadata": {},
   "outputs": [],
   "source": [
    "mydb = pymysql.connect(host=\"localhost\", user=\"root\",passwd=\"1234\",database=\"\")\n",
    "\n",
    "mycursor= mydb.cursor()"
   ]
  },
  {
   "cell_type": "code",
   "execution_count": null,
   "id": "c60653fc",
   "metadata": {},
   "outputs": [],
   "source": [
    "mycursor.execute(\"CREATE DATABASE DB;\")\n"
   ]
  },
  {
   "cell_type": "code",
   "execution_count": 111,
   "id": "c99194f9",
   "metadata": {},
   "outputs": [
    {
     "data": {
      "text/plain": [
       "0"
      ]
     },
     "execution_count": 111,
     "metadata": {},
     "output_type": "execute_result"
    }
   ],
   "source": [
    "mycursor.execute(\"USE DB;\")"
   ]
  },
  {
   "cell_type": "code",
   "execution_count": 87,
   "id": "e309b73b",
   "metadata": {},
   "outputs": [
    {
     "data": {
      "text/plain": [
       "0"
      ]
     },
     "execution_count": 87,
     "metadata": {},
     "output_type": "execute_result"
    }
   ],
   "source": [
    "mycursor.execute(\"\"\"CREATE TABLE CLIENTE (id INT AUTO_INCREMENT PRIMARY KEY,\n",
    "                 nombre VARCHAR(45),apellido VARCHAR(45), telefono VARCHAR(255));\"\"\")\n"
   ]
  },
  {
   "cell_type": "code",
   "execution_count": 119,
   "id": "ffb11f23",
   "metadata": {},
   "outputs": [],
   "source": [
    "with open(\"datos.csv\",\"r\") as file:\n",
    "    for linea in file:\n",
    "        if linea[0]:\n",
    "            continue\n",
    "        else:\n",
    "            campos = linea[:-2].split(',')\n",
    "            mycursor.execute(\"INSERT INTO cliente (nombre, apellido, telefono) VALUES (campos[0], campos[1], campos[2])\")\n",
    "            mydb.commit()\n",
    "mycursor.fetchall()\n",
    "mydb.close()\n"
   ]
  },
  {
   "cell_type": "code",
   "execution_count": 117,
   "id": "e7bc2fe8",
   "metadata": {},
   "outputs": [
    {
     "name": "stdout",
     "output_type": "stream",
     "text": [
      "['\\ufeff# nombre', ' apellido', ' teléfono']\n",
      "['Carmen', 'García', '65421390']\n",
      "['Manuel', 'Jiménez', '666111234;608523478;61233345']\n",
      "['Carmen', 'González', '634555555;61903341']\n"
     ]
    },
    {
     "data": {
      "text/plain": [
       "'González'"
      ]
     },
     "execution_count": 117,
     "metadata": {},
     "output_type": "execute_result"
    }
   ],
   "source": [
    "datos = \"datos.csv\"\n",
    "with open(datos,\"r\") as file:\n",
    "    for fila in file:\n",
    "        if linea[0] == \"#\":\n",
    "            continue\n",
    "        else:\n",
    "            campos = fila[:-2].split(',')\n",
    "            print(campos)\n",
    "        \n",
    "campos[1]    "
   ]
  },
  {
   "cell_type": "code",
   "execution_count": 73,
   "id": "aff69799",
   "metadata": {},
   "outputs": [
    {
     "data": {
      "text/plain": [
       "['Q1 2017', 'Musica', 'AUT - Europa/Austria', ' $47.157,72 ', ' $27.508,67 ']"
      ]
     },
     "execution_count": 73,
     "metadata": {},
     "output_type": "execute_result"
    }
   ],
   "source": [
    "linea =\"Q1 2017;Musica;AUT - Europa/Austria; $47.157,72 ; $27.508,67 \"\n",
    "linea.split(\";\")"
   ]
  },
  {
   "cell_type": "code",
   "execution_count": null,
   "id": "08b18f27",
   "metadata": {},
   "outputs": [],
   "source": [
    "mycursor.fetchall()\n",
    "mydb.close()"
   ]
  }
 ],
 "metadata": {
  "kernelspec": {
   "display_name": "Python 3 (ipykernel)",
   "language": "python",
   "name": "python3"
  },
  "language_info": {
   "codemirror_mode": {
    "name": "ipython",
    "version": 3
   },
   "file_extension": ".py",
   "mimetype": "text/x-python",
   "name": "python",
   "nbconvert_exporter": "python",
   "pygments_lexer": "ipython3",
   "version": "3.11.5"
  }
 },
 "nbformat": 4,
 "nbformat_minor": 5
}
