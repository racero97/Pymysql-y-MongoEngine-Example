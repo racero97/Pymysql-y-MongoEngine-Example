{
 "cells": [
  {
   "cell_type": "code",
   "execution_count": 4,
   "id": "8f2ead65",
   "metadata": {},
   "outputs": [
    {
     "name": "stdout",
     "output_type": "stream",
     "text": [
      "Requirement already satisfied: pymongo in c:\\users\\alace\\anaconda3\\lib\\site-packages (4.6.1)\n",
      "Requirement already satisfied: dnspython<3.0.0,>=1.16.0 in c:\\users\\alace\\anaconda3\\lib\\site-packages (from pymongo) (2.5.0)\n",
      "Requirement already satisfied: mongoengine in c:\\users\\alace\\anaconda3\\lib\\site-packages (0.27.0)\n",
      "Requirement already satisfied: pymongo<5.0,>=3.4 in c:\\users\\alace\\anaconda3\\lib\\site-packages (from mongoengine) (4.6.1)\n",
      "Requirement already satisfied: dnspython<3.0.0,>=1.16.0 in c:\\users\\alace\\anaconda3\\lib\\site-packages (from pymongo<5.0,>=3.4->mongoengine) (2.5.0)\n"
     ]
    }
   ],
   "source": [
    "!pip install pymongo\n",
    "!pip install mongoengine\n",
    "import pymongo\n",
    "from mongoengine import *"
   ]
  },
  {
   "cell_type": "code",
   "execution_count": 5,
   "id": "9d14f4fd",
   "metadata": {},
   "outputs": [],
   "source": [
    "connect('db', host='localhost', port=27017)\n",
    "\n",
    "class persona(Document):\n",
    "    nombre = StringField(max_length=128, required=True)\n",
    "    apellido = StringField(max_length=128, required=True)\n",
    "    tfno = ListField(StringField())\n",
    "    email = StringField()"
   ]
  },
  {
   "cell_type": "code",
   "execution_count": null,
   "id": "d74d47fd",
   "metadata": {},
   "outputs": [],
   "source": [
    "import json\n",
    "\n",
    "archivo = \"archivo.txt\" \n",
    "with open(archivo, \"r\") as file:\n",
    "    for linea in archivo:\n",
    "        formato = json.loads(linea)\n",
    "        persona(**formato)\n",
    "        persona.save()"
   ]
  },
  {
   "cell_type": "code",
   "execution_count": 55,
   "id": "b206c62c",
   "metadata": {},
   "outputs": [],
   "source": [
    "archivo = \"archivo.txt\"\n",
    "\n",
    "with open(archivo, \"r\") as file:\n",
    "    for linea in file:\n",
    "        dic ={}\n",
    "        campos = linea.strip(\"{}\").split(',')\n",
    "        for campo in campos:\n",
    "            clave, valor = campo.split(':')\n",
    "            if clave == \"tfno\":\n",
    "                dic[clave] = valor.split(';')\n",
    "            else:\n",
    "                dic[clave] = valor\n",
    "        nueva_persona =persona(**dic) \n",
    "        nueva_persona.save()\n",
    "        "
   ]
  },
  {
   "cell_type": "code",
   "execution_count": 54,
   "id": "041ed620",
   "metadata": {},
   "outputs": [
    {
     "data": {
      "text/plain": [
       "['666111234', '608523478', '612333456']"
      ]
     },
     "execution_count": 54,
     "metadata": {},
     "output_type": "execute_result"
    }
   ],
   "source": [
    "valor =  \"666111234;608523478;612333456\"\n",
    "valor.split(';')"
   ]
  },
  {
   "cell_type": "code",
   "execution_count": 37,
   "id": "9457035d",
   "metadata": {},
   "outputs": [
    {
     "name": "stdout",
     "output_type": "stream",
     "text": [
      "{'nombre': 'Carmen', 'apellido': 'García', 'tfno': '654213900'}\n"
     ]
    }
   ],
   "source": [
    "datos_str = \"{nombre:Carmen,apellido:García,tfno:654213900}\"\n",
    "campos = datos_str.strip(\"{}\").split(',')\n",
    "datos_dict = {}\n",
    "for campo in campos:\n",
    "    clave, valor = campo.split(':')\n",
    "    datos_dict[clave.strip()] = valor.strip()\n",
    "print(datos_dict)"
   ]
  },
  {
   "cell_type": "code",
   "execution_count": 38,
   "id": "22c04173",
   "metadata": {},
   "outputs": [
    {
     "name": "stdout",
     "output_type": "stream",
     "text": [
      "{'nombre': 'Carmen', 'apellido': 'García', 'tfno': '654213900'}\n"
     ]
    }
   ],
   "source": [
    "datos_str = \"{nombre:Carmen,apellido:García,tfno:654213900}\"\n",
    "campos = datos_str.strip(\"{}\").split(',')\n",
    "datos_dict = {}\n",
    "for campo in campos:\n",
    "    clave, valor = campo.split(':')\n",
    "    datos_dict[clave] = valor\n",
    "print(datos_dict)"
   ]
  },
  {
   "cell_type": "code",
   "execution_count": null,
   "id": "e7512441",
   "metadata": {},
   "outputs": [],
   "source": [
    "persona(datos_dict)"
   ]
  },
  {
   "cell_type": "code",
   "execution_count": null,
   "id": "499d5bab",
   "metadata": {},
   "outputs": [],
   "source": [
    "persona(**datos_dict)\n",
    "persona.save()"
   ]
  }
 ],
 "metadata": {
  "kernelspec": {
   "display_name": "Python 3 (ipykernel)",
   "language": "python",
   "name": "python3"
  },
  "language_info": {
   "codemirror_mode": {
    "name": "ipython",
    "version": 3
   },
   "file_extension": ".py",
   "mimetype": "text/x-python",
   "name": "python",
   "nbconvert_exporter": "python",
   "pygments_lexer": "ipython3",
   "version": "3.11.5"
  }
 },
 "nbformat": 4,
 "nbformat_minor": 5
}
